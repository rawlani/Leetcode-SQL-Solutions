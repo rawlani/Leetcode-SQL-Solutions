{
 "cells": [
  {
   "cell_type": "code",
   "execution_count": null,
   "metadata": {},
   "outputs": [],
   "source": []
  },
  {
   "cell_type": "code",
   "execution_count": null,
   "metadata": {},
   "outputs": [],
   "source": []
  },
  {
   "cell_type": "markdown",
   "metadata": {},
   "source": [
    "**1495. Friendly Movies Streamed Last Month**<br>\n",
    "Write an SQL query to report the distinct titles of the kid-friendly movies streamed in June 2020."
   ]
  },
  {
   "cell_type": "code",
   "execution_count": null,
   "metadata": {},
   "outputs": [],
   "source": [
    "SELECT DISTINCT c.title \n",
    "FROM Content c\n",
    "JOIN TVProgram tv\n",
    "ON tv.content_id = c.content_id\n",
    "WHERE c.kids_content = 'Y' AND content_type = 'Movies' AND tv.program_date LIKE '2020-06%'"
   ]
  },
  {
   "cell_type": "markdown",
   "metadata": {},
   "source": [
    "**1511. Customer Order Frequency**<br>\n",
    "Write an SQL query to report the customer_id and customer_name of customers who have spent at least $100 in each month of June and July 2020."
   ]
  },
  {
   "cell_type": "code",
   "execution_count": null,
   "metadata": {},
   "outputs": [],
   "source": [
    "SELECT t.customer_id, t.name \n",
    "FROM (SELECT c.customer_id, c.name, \n",
    "             SUM(CASE WHEN EXTRACT(MONTH FROM o.order_date) = 6 THEN o.quantity*p.price ELSE 0 END) AS June_total, \n",
    "             SUM(CASE WHEN EXTRACT(MONTH FROM o.order_date) = 7 THEN o.quantity*p.price ELSE 0 END) AS July_total \n",
    "      FROM Customers c \n",
    "      JOIN Orders o \n",
    "      ON c.customer_id = o.customer_id\n",
    "      JOIN Product p \n",
    "      ON o.product_id = p.product_id \n",
    "      GROUP BY c.customer_id) t\n",
    "WHERE t.June_total>=100 AND t.July_total >=100"
   ]
  },
  {
   "cell_type": "markdown",
   "metadata": {},
   "source": [
    "**1517. Find Users With Valid E-Mails**"
   ]
  },
  {
   "cell_type": "code",
   "execution_count": null,
   "metadata": {},
   "outputs": [],
   "source": [
    "SELECT *\n",
    "FROM Users\n",
    "WHERE mail REGEXP '^[a-zA-Z]+[a-zA-Z0-9._-]*@leetcode.com$'"
   ]
  },
  {
   "cell_type": "markdown",
   "metadata": {},
   "source": [
    "**1527. Patients With a Condition**<br>\n",
    "Write an SQL query to report the patient_id, patient_name who have Type I Diabetes. <br> Type I Diabetes always starts with DIAB1 prefix"
   ]
  },
  {
   "cell_type": "code",
   "execution_count": null,
   "metadata": {},
   "outputs": [],
   "source": [
    "SELECT patient_id, patient_name, conditions\n",
    "FROM Patients\n",
    "WHERE conditions LIKE '%DIAB1%'"
   ]
  },
  {
   "cell_type": "markdown",
   "metadata": {},
   "source": [
    "**1543. Fix Product Name Format**"
   ]
  },
  {
   "cell_type": "code",
   "execution_count": null,
   "metadata": {},
   "outputs": [],
   "source": [
    "SELECT lower(trim(product_name)) as product_name, \n",
    "       DATE_FORMAT(sale_date, \"%Y-%m\") as sale_date, \n",
    "       COUNT(*) as total \n",
    "FROM Sales\n",
    "GROUP BY 1,2\n",
    "ORDER BY 1,2"
   ]
  }
 ],
 "metadata": {
  "kernelspec": {
   "display_name": "Python 3",
   "language": "python",
   "name": "python3"
  },
  "language_info": {
   "codemirror_mode": {
    "name": "ipython",
    "version": 3
   },
   "file_extension": ".py",
   "mimetype": "text/x-python",
   "name": "python",
   "nbconvert_exporter": "python",
   "pygments_lexer": "ipython3",
   "version": "3.7.3"
  }
 },
 "nbformat": 4,
 "nbformat_minor": 2
}
