{
 "cells": [
  {
   "cell_type": "markdown",
   "metadata": {},
   "source": [
    "**1241. Number of Comments per Post**<br>\n",
    "Write an SQL query to find number of comments per each post.\n",
    "\n",
    "Result table should contain post_id and its corresponding number_of_comments, and must be sorted by post_id in ascending order.\n",
    "\n",
    "Submissions may contain duplicate comments. You should count the number of unique comments per post.\n",
    "\n",
    "Submissions may contain duplicate posts. You should treat them as one post."
   ]
  },
  {
   "cell_type": "code",
   "execution_count": null,
   "metadata": {},
   "outputs": [],
   "source": [
    "SELECT t1.sub_id AS post_id, COUNT(t2.parent_id) AS number_of_comments \n",
    "FROM\n",
    "    (SELECT DISTINCT sub_id FROM Submissions WHERE parent_id iS NULL) t1\n",
    "LEFT JOIN\n",
    "    (SELECT DISTINCT sub_id, parent_id FROM Submissions WHERE parent_id IS NOT NULL) t2\n",
    "ON t1.sub_id = t2.parent_id\n",
    "GROUP BY t1.sub_id\n",
    "ORDER BY post_id"
   ]
  },
  {
   "cell_type": "markdown",
   "metadata": {},
   "source": [
    "**1251. Average Selling Price**<br>\n",
    "Write an SQL query to find the average selling price for each product.<br>\n",
    "average_price should be rounded to 2 decimal places."
   ]
  },
  {
   "cell_type": "code",
   "execution_count": null,
   "metadata": {},
   "outputs": [],
   "source": [
    "SELECT p.product_id, ROUND(SUM(p.price*u.units) / SUM(u.units),2) AS average_price\n",
    "FROM Prices p\n",
    "JOIN UnitsSold u\n",
    "ON p.product_id = u.product_id AND u.purchase_date BETWEEN p.start_date AND p.end_date\n",
    "GROUP BY p.product_id"
   ]
  },
  {
   "cell_type": "markdown",
   "metadata": {},
   "source": [
    "**1280. Students and Examinations**<br>\n",
    "Write an SQL query to find the number of times each student attended each exam.<br>\n",
    "Order the result table by student_id and subject_name."
   ]
  },
  {
   "cell_type": "code",
   "execution_count": null,
   "metadata": {
    "tags": [
     "tricky",
     "multiple-group-by-usage",
     "cross-join",
     "left-join"
    ]
   },
   "outputs": [],
   "source": [
    "SELECT s.student_id, s.student_name, sb.subject_name, COUNT(e.subject_name) AS attended_exams\n",
    "FROM Students s \n",
    "CROSS JOIN Subjects sb \n",
    "LEFT JOIN Examinations e\n",
    "ON s.student_id=e.student_id AND sb.subject_name = e.subject_name\n",
    "GROUP BY s.student_id, sb.subject_name, s.student_name\n",
    "ORDER BY s.student_id, sb.subject_name"
   ]
  },
  {
   "cell_type": "markdown",
   "metadata": {},
   "source": [
    "**1294. Weather Type in Each Country**<br>\n",
    "Write an SQL query to find the type of weather in each country for November 2019.\n",
    "\n",
    "The type of weather is Cold if the average weather_state is less than or equal 15, Hot if the average weather_state is greater than or equal 25 and Warm otherwise."
   ]
  },
  {
   "cell_type": "code",
   "execution_count": null,
   "metadata": {
    "tags": [
     "case-function",
     "inner-join"
    ]
   },
   "outputs": [],
   "source": [
    "SELECT c.country_name,\n",
    "CASE WHEN AVG(w.weather_state)<=15 THEN 'Cold'\n",
    "WHEN AVG(w.weather_state)>=25 THEN 'Hot' ELSE 'Warm' END AS weather_type\n",
    "FROM Countries c\n",
    "JOIN weather w\n",
    "ON c.country_id = w.country_id\n",
    "WHERE day LIKE '2019-11-%'\n",
    "GROUP BY c.country_id"
   ]
  },
  {
   "cell_type": "markdown",
   "metadata": {},
   "source": [
    "**1303. Find the Team Size**<br>\n",
    "Write a SQL query to find the team size of each of the employees."
   ]
  },
  {
   "cell_type": "code",
   "execution_count": null,
   "metadata": {
    "tags": [
     "join-on-subquery"
    ]
   },
   "outputs": [],
   "source": [
    "# Method 1 : Intuitive Method\n",
    "\n",
    "SELECT e.employee_id, t.cnt AS team_size\n",
    "FROM employee e\n",
    "JOIN (SELECT team_id, COUNT(*) AS cnt FROM employee GROUP BY team_id) t\n",
    "ON e.team_id = t.team_id"
   ]
  },
  {
   "cell_type": "code",
   "execution_count": null,
   "metadata": {},
   "outputs": [],
   "source": [
    "# Method 2: Windows Function\n",
    "\n",
    "SELECT employee_id, COUNT(*) OVER(PARTITION BY team_id) AS team_size FROM Employee"
   ]
  },
  {
   "cell_type": "markdown",
   "metadata": {},
   "source": [
    "**1322. Ads Performance**<br>\n",
    "A company is running Ads and wants to calculate the performance of each Ad.\n",
    "\n",
    "Performance of the Ad is measured using Click-Through Rate (CTR).\n",
    "rite an SQL query to find the ctr of each Ad.\n",
    "\n",
    "Round ctr to 2 decimal points. Order the result table by ctr in descending order and by ad_id in ascending order in case of a tie."
   ]
  },
  {
   "cell_type": "code",
   "execution_count": null,
   "metadata": {
    "tags": [
     "ifnull()",
     "case-function"
    ]
   },
   "outputs": [],
   "source": [
    "SELECT ad_id, \n",
    "IFNULL(\n",
    "    ROUND(\n",
    "        (SUM(CASE WHEN action='Clicked' THEN 1 END) / SUM(CASE WHEN action='Clicked' OR action='Viewed' THEN 1 END))*100,\n",
    "        2),0) AS ctr\n",
    "FROM ads\n",
    "GROUP BY ad_id\n",
    "ORDER BY ctr DESC, ad_id"
   ]
  },
  {
   "cell_type": "markdown",
   "metadata": {},
   "source": [
    "**1327. List the Products Ordered in a Period**<br>\n",
    "Write a SQL query to get the names of products with greater than or equal to 100 units ordered in February 2020 and their amount."
   ]
  },
  {
   "cell_type": "code",
   "execution_count": null,
   "metadata": {
    "tags": [
     "pattern-matching",
     "having-clause"
    ]
   },
   "outputs": [],
   "source": [
    "SELECT p.product_name, SUM(o.unit) AS unit\n",
    "FROM Products p\n",
    "JOIN Orders o\n",
    "ON p.product_id = o.product_id\n",
    "WHERE o.order_date LIKE '2020-02%'\n",
    "GROUP BY p.product_name\n",
    "HAVING unit>=100"
   ]
  },
  {
   "cell_type": "markdown",
   "metadata": {},
   "source": [
    "**1350. Students With Invalid Departments**<br>\n",
    "Write an SQL query to find the id and the name of all students who are enrolled in departments that no longer exists."
   ]
  },
  {
   "cell_type": "code",
   "execution_count": null,
   "metadata": {
    "tags": [
     "not-in"
    ]
   },
   "outputs": [],
   "source": [
    "SELECT s.id, s.name\n",
    "FROM Students s\n",
    "WHERE s.department_id NOT IN (SELECT id FROM Departments)"
   ]
  },
  {
   "cell_type": "markdown",
   "metadata": {},
   "source": [
    "**1378. Replace Employee ID With The Unique Identifier**<br>\n",
    "Write an SQL query to show the unique ID of each user, If a user doesn't have a unique ID replace just show null."
   ]
  },
  {
   "cell_type": "code",
   "execution_count": null,
   "metadata": {
    "tags": [
     "left-join"
    ]
   },
   "outputs": [],
   "source": [
    "SELECT eu.unique_id, e.name \n",
    "FROM Employees e\n",
    "LEFT JOIN EmployeeUni eu\n",
    "ON e.id = eu.id"
   ]
  },
  {
   "cell_type": "markdown",
   "metadata": {},
   "source": [
    "**1407. Top Travellers**<br>\n",
    "Write an SQL query to report the distance travelled by each user.\n",
    "\n",
    "Return the result table ordered by travelled_distance in descending order, if two or more users travelled the same distance, order them by their name in ascending order."
   ]
  },
  {
   "cell_type": "code",
   "execution_count": null,
   "metadata": {
    "tags": [
     "left-join",
     "ifnull()"
    ]
   },
   "outputs": [],
   "source": [
    "SELECT u.name, IFNULL(SUM(r.distance), 0) AS travelled_distance\n",
    "FROM Users u\n",
    "LEFT JOIN Rides r\n",
    "ON u.id = r.user_id\n",
    "GROUP BY name\n",
    "ORDER BY travelled_distance DESC, name"
   ]
  },
  {
   "cell_type": "markdown",
   "metadata": {},
   "source": [
    "**1435. Create a Session Bar Chart**<br>\n",
    "You want to know how long a user visits your application. <br>You decided to create bins of \"[0-5>\", \"[5-10>\", \"[10-15>\" and \"15 minutes or more\" and count the number of sessions on it.\n",
    "\n",
    "Write an SQL query to report the (bin, total) in any order."
   ]
  },
  {
   "cell_type": "code",
   "execution_count": null,
   "metadata": {
    "tags": [
     "union"
    ]
   },
   "outputs": [],
   "source": [
    "SELECT '[0-5>' AS 'bin', SUM(duration/60 < 5) AS 'total' FROM Sessions\n",
    "UNION\n",
    "SELECT '[5-10>' AS 'bin', SUM(duration/60 > 5 and duration/60<10) AS 'total' FROM Sessions\n",
    "UNION\n",
    "SELECT '[10-15>' AS 'bin', SUM(duration/60 > 10 and duration/60 < 15) AS 'total' FROM Sessions\n",
    "UNION\n",
    "SELECT '15 or more' AS 'bin', SUM(duration/60 > 15) AS 'total' FROM Sessions"
   ]
  },
  {
   "cell_type": "markdown",
   "metadata": {},
   "source": [
    "**1484. Group Sold Products By The Date**<br>\n",
    "Write an SQL query to find for each date, the number of distinct products sold and their names.\n",
    "<br>\n",
    "The sold-products names for each date should be sorted lexicographically. \n",
    "<br>\n",
    "Return the result table ordered by sell_date."
   ]
  },
  {
   "cell_type": "code",
   "execution_count": null,
   "metadata": {
    "tags": [
     "group-concat"
    ]
   },
   "outputs": [],
   "source": [
    "SELECT sell_date, \n",
    "       COUNT(DISTINCT product) AS num_sold, \n",
    "       GROUP_CONCAT(DISTINCT product ORDER BY product) AS products\n",
    "FROM activities\n",
    "GROUP BY sell_date"
   ]
  },
  {
   "cell_type": "markdown",
   "metadata": {},
   "source": [
    "**1495. Friendly Movies Streamed Last Month**<br>\n",
    "Write an SQL query to report the distinct titles of the kid-friendly movies streamed in June 2020."
   ]
  },
  {
   "cell_type": "code",
   "execution_count": null,
   "metadata": {
    "tags": [
     "inner-join",
     "pattern-matching"
    ]
   },
   "outputs": [],
   "source": [
    "SELECT DISTINCT c.title \n",
    "FROM Content c\n",
    "JOIN TVProgram tv\n",
    "ON tv.content_id = c.content_id\n",
    "WHERE c.kids_content = 'Y' AND content_type = 'Movies' AND tv.program_date LIKE '2020-06%'"
   ]
  },
  {
   "cell_type": "markdown",
   "metadata": {},
   "source": [
    "**1511. Customer Order Frequency**<br>\n",
    "Write an SQL query to report the customer_id and customer_name of customers who have spent at least $100 in each month of June and July 2020."
   ]
  },
  {
   "cell_type": "code",
   "execution_count": null,
   "metadata": {
    "tags": [
     "date-extract",
     "subquery",
     "case-function",
     "inner-join"
    ]
   },
   "outputs": [],
   "source": [
    "SELECT t.customer_id, t.name \n",
    "FROM (SELECT c.customer_id, c.name, \n",
    "             SUM(CASE WHEN EXTRACT(MONTH FROM o.order_date) = 6 THEN o.quantity*p.price ELSE 0 END) AS June_total, \n",
    "             SUM(CASE WHEN EXTRACT(MONTH FROM o.order_date) = 7 THEN o.quantity*p.price ELSE 0 END) AS July_total \n",
    "      FROM Customers c \n",
    "      JOIN Orders o \n",
    "      ON c.customer_id = o.customer_id\n",
    "      JOIN Product p \n",
    "      ON o.product_id = p.product_id \n",
    "      GROUP BY c.customer_id) t\n",
    "WHERE t.June_total>=100 AND t.July_total >=100"
   ]
  },
  {
   "cell_type": "markdown",
   "metadata": {},
   "source": [
    "**1517. Find Users With Valid E-Mails**"
   ]
  },
  {
   "cell_type": "code",
   "execution_count": null,
   "metadata": {
    "tags": [
     "regexp"
    ]
   },
   "outputs": [],
   "source": [
    "SELECT *\n",
    "FROM Users\n",
    "WHERE mail REGEXP '^[a-zA-Z]+[a-zA-Z0-9._-]*@leetcode.com$'"
   ]
  },
  {
   "cell_type": "markdown",
   "metadata": {},
   "source": [
    "**1527. Patients With a Condition**<br>\n",
    "Write an SQL query to report the patient_id, patient_name who have Type I Diabetes. <br> Type I Diabetes always starts with DIAB1 prefix"
   ]
  },
  {
   "cell_type": "code",
   "execution_count": null,
   "metadata": {
    "tags": [
     "pattern-matching"
    ]
   },
   "outputs": [],
   "source": [
    "SELECT patient_id, patient_name, conditions\n",
    "FROM Patients\n",
    "WHERE conditions LIKE '%DIAB1%'"
   ]
  },
  {
   "cell_type": "markdown",
   "metadata": {},
   "source": [
    "**1543. Fix Product Name Format**"
   ]
  },
  {
   "cell_type": "code",
   "execution_count": null,
   "metadata": {
    "tags": [
     "lower-case-function",
     "trim-function",
     "date-format"
    ]
   },
   "outputs": [],
   "source": [
    "SELECT LOWER(TRIM(product_name)) AS product_name, \n",
    "       DATE_FORMAT(sale_date, \"%Y-%m\") AS sale_date, \n",
    "       COUNT(*) AS total \n",
    "FROM Sales\n",
    "GROUP BY 1,2\n",
    "ORDER BY 1,2"
   ]
  },
  {
   "cell_type": "markdown",
   "metadata": {},
   "source": [
    "**1565. Unique Orders and Customers Per Month**<br>\n",
    "Write an SQL query to find the number of unique orders and the number of unique users with invoices > $20 for each different month."
   ]
  },
  {
   "cell_type": "code",
   "execution_count": null,
   "metadata": {
    "tags": [
     "date-format"
    ]
   },
   "outputs": [],
   "source": [
    "SELECT DATE_FORMAT(order_date, '%Y-%m') AS month, \n",
    "       COUNT(order_id) AS order_count,\n",
    "       COUNT(DISTINCT customer_id) AS customer_count \n",
    "FROM Orders\n",
    "WHERE invoice > 20\n",
    "GROUP BY 1"
   ]
  },
  {
   "cell_type": "markdown",
   "metadata": {},
   "source": [
    "**1571. Warehouse Manager**<br>\n",
    "Write a SQL query to report, How much cubic feet of volume does the inventory occupy in each warehouse."
   ]
  },
  {
   "cell_type": "code",
   "execution_count": null,
   "metadata": {},
   "outputs": [],
   "source": [
    "SELECT name AS warehouse_name, SUM(p.width*p.length*p.height*w.units) AS volume\n",
    "FROM Warehouse w\n",
    "JOIN Products p\n",
    "ON w.product_id = p.product_id\n",
    "GROUP BY w.name"
   ]
  }
 ],
 "metadata": {
  "celltoolbar": "Tags",
  "kernelspec": {
   "display_name": "Python 3",
   "language": "python",
   "name": "python3"
  },
  "language_info": {
   "codemirror_mode": {
    "name": "ipython",
    "version": 3
   },
   "file_extension": ".py",
   "mimetype": "text/x-python",
   "name": "python",
   "nbconvert_exporter": "python",
   "pygments_lexer": "ipython3",
   "version": "3.7.3"
  }
 },
 "nbformat": 4,
 "nbformat_minor": 2
}
