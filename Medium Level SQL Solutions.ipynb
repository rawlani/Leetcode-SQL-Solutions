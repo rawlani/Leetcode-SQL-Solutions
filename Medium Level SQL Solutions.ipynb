{
 "cells": [
  {
   "cell_type": "markdown",
   "metadata": {},
   "source": [
    "**1532. The Most Recent Three Orders**<br>\n",
    "Write an SQL query to find the most recent 3 orders of each user. If a user ordered less than 3 orders return all of their orders.\n",
    "\n",
    "Return the result table sorted by customer_name in ascending order and in case of a tie by the customer_id in ascending order. If there still a tie, order them by the order_date in descending order."
   ]
  },
  {
   "cell_type": "code",
   "execution_count": null,
   "metadata": {
    "tags": [
     "window-function",
     "row_number()",
     "inner-join"
    ]
   },
   "outputs": [],
   "source": [
    "SELECT t.name AS customer_name, t.customer_id, t.order_id, t.order_date\n",
    "FROM (SELECT c.name, \n",
    "             c.customer_id, \n",
    "             o.order_id, \n",
    "             o.order_date, \n",
    "             ROW_NUMBER() OVER (PARTITION BY o.customer_id ORDER BY o.order_date DESC) AS rown\n",
    "             FROM Customers c\n",
    "             JOIN Orders o\n",
    "             ON c.customer_id = o.customer_id) t\n",
    "WHERE t.rown<=3\n",
    "ORDER BY customer_name, customer_id, order_date DESC"
   ]
  },
  {
   "cell_type": "markdown",
   "metadata": {},
   "source": [
    "**1549. The Most Recent Orders for Each Product**<br>\n",
    "Write a SQL query to find the most recent order(s) of each product.<br>\n",
    "\n",
    "Return the result table sorted by product_name in ascending order and in case of a tie by the product_id in ascending order.<br> If there still a tie, order them by the order_id in ascending order."
   ]
  },
  {
   "cell_type": "code",
   "execution_count": null,
   "metadata": {
    "tags": [
     "subquery",
     "inner-join",
     "max()"
    ]
   },
   "outputs": [],
   "source": [
    "# Method 1:\n",
    "\n",
    "SELECT p.product_name, o.product_id, o.order_id, o.order_date\n",
    "FROM Orders o \n",
    "JOIN Products p\n",
    "ON o.product_id = p.product_id\n",
    "WHERE (o.order_date, o.product_id) \n",
    "IN (SELECT MAX(order_date) AS order_date, product_id FROM Orders GROUP BY product_id)\n",
    "ORDER BY p.product_name, o.product_id, o.order_id"
   ]
  },
  {
   "cell_type": "code",
   "execution_count": null,
   "metadata": {
    "tags": [
     "window-function",
     "rank()",
     "inner-join"
    ]
   },
   "outputs": [],
   "source": [
    "# Method 2:\n",
    "\n",
    "SELECT t.product_name, t.product_id, t.order_id, t.order_date\n",
    "FROM (SELECT p.product_name, \n",
    "             o.product_id, \n",
    "             o.order_id, \n",
    "             o.order_date, \n",
    "             RANK() OVER (PARTITION BY o.product_id ORDER BY o.order_date DESC) AS rnk\n",
    "      FROM Products p JOIN Orders o\n",
    "      ON o.product_id = p.product_id) t\n",
    "WHERE t.rnk = 1\n",
    "ORDER BY t.product_name, t.product_id, t.order_id"
   ]
  },
  {
   "cell_type": "markdown",
   "metadata": {},
   "source": [
    "**1555. Bank Account Summary**<br>\n",
    "Write an SQL query to report user_id, user_name, credit (current balance after performing transactions),<br>\n",
    "credit_limit_breached (check credit_limit (\"Yes\" or \"No\"))"
   ]
  },
  {
   "cell_type": "code",
   "execution_count": null,
   "metadata": {
    "tags": [
     "ifnull()",
     "subquery",
     "right-join",
     "case-function",
     "union"
    ]
   },
   "outputs": [],
   "source": [
    "SELECT u.user_id, u.user_name, \n",
    "       IFNULL((SUM(t.amount) + u.credit),u.credit) AS credit,\n",
    "       (CASE WHEN IFNULL((SUM(t.amount) + u.credit),u.credit)<0 THEN 'Yes' ELSE 'No' END) AS credit_limit_breached\n",
    "FROM\n",
    "    (SELECT paid_by AS user_id, SUM((-1)*amount) AS amount FROM transaction GROUP BY user_id\n",
    "    UNION\n",
    "    SELECT paid_to AS user_id, SUM(amount) FROM transaction GROUP BY user_id) t\n",
    "RIGHT JOIN Users u \n",
    "ON u.user_id = t.user_id\n",
    "GROUP BY u.user_id"
   ]
  }
 ],
 "metadata": {
  "celltoolbar": "Tags",
  "kernelspec": {
   "display_name": "Python 3",
   "language": "python",
   "name": "python3"
  },
  "language_info": {
   "codemirror_mode": {
    "name": "ipython",
    "version": 3
   },
   "file_extension": ".py",
   "mimetype": "text/x-python",
   "name": "python",
   "nbconvert_exporter": "python",
   "pygments_lexer": "ipython3",
   "version": "3.7.3"
  }
 },
 "nbformat": 4,
 "nbformat_minor": 2
}
