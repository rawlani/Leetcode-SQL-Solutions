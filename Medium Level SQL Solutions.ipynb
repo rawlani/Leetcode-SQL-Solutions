{
 "cells": [
  {
   "cell_type": "markdown",
   "metadata": {},
   "source": [
    "**1555. Bank Account Summary**"
   ]
  },
  {
   "cell_type": "code",
   "execution_count": null,
   "metadata": {},
   "outputs": [],
   "source": [
    "SELECT u.user_id, u.user_name, \n",
    "       \n",
    "       IFNULL((SUM(t.amount) + u.credit),u.credit) AS credit,\n",
    "       \n",
    "       (CASE \n",
    "       WHEN IFNULL((SUM(t.amount) + u.credit),u.credit)<0 \n",
    "       THEN 'Yes' \n",
    "       ELSE 'No' \n",
    "       END) AS credit_limit_breached\n",
    "FROM\n",
    "    (SELECT paid_by AS user_id, SUM((-1)*amount) AS amount FROM transaction GROUP BY user_id\n",
    "    UNION\n",
    "    SELECT paid_to AS user_id, SUM(amount) FROM transaction GROUP BY user_id) t\n",
    "\n",
    "RIGHT JOIN Users u \n",
    "ON u.user_id = t.user_id\n",
    "GROUP BY u.user_id"
   ]
  },
  {
   "cell_type": "code",
   "execution_count": null,
   "metadata": {},
   "outputs": [],
   "source": []
  }
 ],
 "metadata": {
  "kernelspec": {
   "display_name": "Python 3",
   "language": "python",
   "name": "python3"
  },
  "language_info": {
   "codemirror_mode": {
    "name": "ipython",
    "version": 3
   },
   "file_extension": ".py",
   "mimetype": "text/x-python",
   "name": "python",
   "nbconvert_exporter": "python",
   "pygments_lexer": "ipython3",
   "version": "3.7.3"
  }
 },
 "nbformat": 4,
 "nbformat_minor": 2
}
