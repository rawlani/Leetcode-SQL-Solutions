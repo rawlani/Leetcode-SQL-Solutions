{
 "cells": [
  {
   "cell_type": "markdown",
   "metadata": {},
   "source": [
    "**1440. Evaluate Boolean Expression**<br>\n",
    "Write a SQL query to evaluate the boolean expressions in Expressions table."
   ]
  },
  {
   "cell_type": "code",
   "execution_count": null,
   "metadata": {},
   "outputs": [],
   "source": [
    "SELECT e.left_operand, e.operator, e.right_operand,\n",
    "CASE WHEN e.operator = '>' AND v1.value>v2.value THEN 'true'\n",
    "WHEN e.operator = '<' AND v1.value<v2.value THEN 'true'\n",
    "WHEN e.operator = '=' AND v1.value=v2.value THEN 'true' ELSE 'false' END AS value\n",
    "FROM Expressions e\n",
    "JOIN Variables v1\n",
    "ON e.left_operand = v1.name\n",
    "JOIN Variables v2\n",
    "ON e.right_operand = v2.name"
   ]
  },
  {
   "cell_type": "markdown",
   "metadata": {},
   "source": [
    "**1445. Apples & Oranges**<br>\n",
    "Write an SQL query to report the difference between number of apples and oranges sold each day.\n",
    "\n",
    "Return the result table ordered by sale_date in format ('YYYY-MM-DD')."
   ]
  },
  {
   "cell_type": "code",
   "execution_count": null,
   "metadata": {},
   "outputs": [],
   "source": [
    "# Method 1: Self Join\n",
    "\n",
    "SELECT a.sale_date, b.sold_num-a.sold_num AS diff\n",
    "FROM Sales a, Sales b\n",
    "WHERE a.sale_date = b.sale_date\n",
    "GROUP BY 1\n",
    "ORDER BY 1"
   ]
  },
  {
   "cell_type": "code",
   "execution_count": null,
   "metadata": {},
   "outputs": [],
   "source": [
    "# Method 2: Case-Function\n",
    "\n",
    "SELECT sale_date, \n",
    "       SUM(CASE WHEN fruit = 'apples' THEN sold_num ELSE -sold_num END) AS diff\n",
    "FROM sales\n",
    "GROUP BY sale_date\n",
    "ORDER BY sale_date"
   ]
  },
  {
   "cell_type": "markdown",
   "metadata": {},
   "source": [
    "**1454. Active Users**<br>\n",
    "Write an SQL query to find the id and the name of active users.<br>\n",
    "Active users are those who logged in to their accounts for 5 or more consecutive days.<br>\n",
    "Return the result table ordered by the id."
   ]
  },
  {
   "cell_type": "code",
   "execution_count": null,
   "metadata": {
    "tags": [
     "tricky-date-concept",
     "datediff-function",
     "inner-join"
    ]
   },
   "outputs": [],
   "source": [
    "SELECT t.id, ac.name\n",
    "FROM Accounts ac\n",
    "JOIN\n",
    "(SELECT DISTINCT a.id FROM logins a, logins b \n",
    "WHERE a.id=b.id AND DATEDIFF(a.login_date, b.login_date) BETWEEN 1 AND 4\n",
    "GROUP BY a.id, a.login_date\n",
    "HAVING COUNT(DISTINCT b.login_date) = 4) t\n",
    "ON t.id = ac.id\n",
    "ORDER BY t.id"
   ]
  },
  {
   "cell_type": "markdown",
   "metadata": {},
   "source": [
    "**1459. Rectangles Area**<br>\n",
    "Write an SQL query to report of all possible rectangles which can be formed by any two points of the table. \n",
    "\n",
    "Each row in the result contains three columns (p1, p2, area) where:\n",
    "\n",
    "p1 and p2 are the id of two opposite corners of a rectangle and p1 < p2.\n",
    "Area of this rectangle is represented by the column area.\n",
    "Report the query in descending order by area in case of tie in ascending order by p1 and p2."
   ]
  },
  {
   "cell_type": "code",
   "execution_count": null,
   "metadata": {
    "tags": [
     "abs()",
     "self-join"
    ]
   },
   "outputs": [],
   "source": [
    "SELECT a.id AS p1, \n",
    "       b.id AS p2, \n",
    "       ABS(a.x_value - b.x_value)*ABS(a.y_value - b.y_value) AS area\n",
    "FROM Points a, Points b\n",
    "WHERE a.id < b.id\n",
    "HAVING area != 0\n",
    "ORDER BY 3 DESC, 1,2"
   ]
  },
  {
   "cell_type": "markdown",
   "metadata": {},
   "source": [
    "**1468. Calculate Salaries**<br>\n",
    "Write an SQL query to find the salaries of the employees after applying taxes.\n",
    "\n",
    "The tax rate is calculated for each company based on the following criteria:\n",
    "1. 0% If the max salary of any employee in the company is less than 1000 USD.\n",
    "2. 24% If the max salary of any employee in the company is in the range [1000, 10000] inclusive.\n",
    "3. 49% If the max salary of any employee in the company is greater than 10000 USD.\n",
    "\n",
    "Return the result table in any order. Round the salary to the nearest integer."
   ]
  },
  {
   "cell_type": "code",
   "execution_count": null,
   "metadata": {
    "tags": [
     "case-function",
     "inner-join",
     "CTE"
    ]
   },
   "outputs": [],
   "source": [
    "WITH taxcalc AS (\n",
    "SELECT company_id, \n",
    "CASE WHEN MAX(salary)>10000 THEN 0.51\n",
    "WHEN MAX(salary)<1000 THEN 1.00 ELSE 0.76 END AS num\n",
    "FROM salaries\n",
    "GROUP BY company_id)\n",
    "\n",
    "SELECT s.company_id, s.employee_id, s.employee_name, ROUND(s.salary*t.num) AS salary\n",
    "FROM Salaries s\n",
    "JOIN taxcalc t\n",
    "ON s.company_id = t.company_id"
   ]
  },
  {
   "cell_type": "markdown",
   "metadata": {},
   "source": [
    "**1501. Countries You Can Safely Invest In**<br>\n",
    "A telecommunications company wants to invest in new countries. The company intends to invest in the countries where the average call duration of the calls in this country is strictly greater than the global average call duration.\n",
    "\n",
    "Write an SQL query to find the countries where this company can invest."
   ]
  },
  {
   "cell_type": "code",
   "execution_count": null,
   "metadata": {
    "tags": [
     "tricky-concept",
     "inner-join",
     "substring-function",
     "having-clause"
    ]
   },
   "outputs": [],
   "source": [
    "SELECT c.name AS country FROM Person p\n",
    "JOIN Country c\n",
    "ON c.country_code = SUBSTRING(p.phone_number, 1, 3)\n",
    "JOIN Calls ca\n",
    "ON ca.caller_id = p.id OR ca.callee_id = p.id\n",
    "GROUP BY c.name\n",
    "HAVING AVG(duration) > (SELECT AVG(duration) FROM calls)"
   ]
  },
  {
   "cell_type": "markdown",
   "metadata": {},
   "source": [
    "**1532. The Most Recent Three Orders**<br>\n",
    "Write an SQL query to find the most recent 3 orders of each user. If a user ordered less than 3 orders return all of their orders.\n",
    "\n",
    "Return the result table sorted by customer_name in ascending order and in case of a tie by the customer_id in ascending order. If there still a tie, order them by the order_date in descending order."
   ]
  },
  {
   "cell_type": "code",
   "execution_count": null,
   "metadata": {
    "tags": [
     "window-function",
     "row_number()",
     "inner-join"
    ]
   },
   "outputs": [],
   "source": [
    "SELECT t.name AS customer_name, t.customer_id, t.order_id, t.order_date\n",
    "FROM (SELECT c.name, \n",
    "             c.customer_id, \n",
    "             o.order_id, \n",
    "             o.order_date, \n",
    "             ROW_NUMBER() OVER (PARTITION BY o.customer_id ORDER BY o.order_date DESC) AS rown\n",
    "             FROM Customers c\n",
    "             JOIN Orders o\n",
    "             ON c.customer_id = o.customer_id) t\n",
    "WHERE t.rown<=3\n",
    "ORDER BY customer_name, customer_id, order_date DESC"
   ]
  },
  {
   "cell_type": "markdown",
   "metadata": {},
   "source": [
    "**1549. The Most Recent Orders for Each Product**<br>\n",
    "Write a SQL query to find the most recent order(s) of each product.<br>\n",
    "\n",
    "Return the result table sorted by product_name in ascending order and in case of a tie by the product_id in ascending order.<br> If there still a tie, order them by the order_id in ascending order."
   ]
  },
  {
   "cell_type": "code",
   "execution_count": null,
   "metadata": {
    "tags": [
     "subquery",
     "inner-join",
     "max()"
    ]
   },
   "outputs": [],
   "source": [
    "# Method 1:\n",
    "\n",
    "SELECT p.product_name, o.product_id, o.order_id, o.order_date\n",
    "FROM Orders o \n",
    "JOIN Products p\n",
    "ON o.product_id = p.product_id\n",
    "WHERE (o.order_date, o.product_id) \n",
    "IN (SELECT MAX(order_date) AS order_date, product_id FROM Orders GROUP BY product_id)\n",
    "ORDER BY p.product_name, o.product_id, o.order_id"
   ]
  },
  {
   "cell_type": "code",
   "execution_count": null,
   "metadata": {
    "tags": [
     "window-function",
     "rank()",
     "inner-join"
    ]
   },
   "outputs": [],
   "source": [
    "# Method 2:\n",
    "\n",
    "SELECT t.product_name, t.product_id, t.order_id, t.order_date\n",
    "FROM (SELECT p.product_name, \n",
    "             o.product_id, \n",
    "             o.order_id, \n",
    "             o.order_date, \n",
    "             RANK() OVER (PARTITION BY o.product_id ORDER BY o.order_date DESC) AS rnk\n",
    "      FROM Products p JOIN Orders o\n",
    "      ON o.product_id = p.product_id) t\n",
    "WHERE t.rnk = 1\n",
    "ORDER BY t.product_name, t.product_id, t.order_id"
   ]
  },
  {
   "cell_type": "markdown",
   "metadata": {},
   "source": [
    "**1555. Bank Account Summary**<br>\n",
    "Write an SQL query to report user_id, user_name, credit (current balance after performing transactions),<br>\n",
    "credit_limit_breached (check credit_limit (\"Yes\" or \"No\"))"
   ]
  },
  {
   "cell_type": "code",
   "execution_count": null,
   "metadata": {
    "tags": [
     "ifnull()",
     "subquery",
     "right-join",
     "case-function",
     "union"
    ]
   },
   "outputs": [],
   "source": [
    "SELECT u.user_id, u.user_name, \n",
    "       IFNULL((SUM(t.amount) + u.credit),u.credit) AS credit,\n",
    "       (CASE WHEN IFNULL((SUM(t.amount) + u.credit),u.credit)<0 THEN 'Yes' ELSE 'No' END) AS credit_limit_breached\n",
    "FROM\n",
    "    (SELECT paid_by AS user_id, SUM((-1)*amount) AS amount FROM transaction GROUP BY user_id\n",
    "    UNION\n",
    "    SELECT paid_to AS user_id, SUM(amount) FROM transaction GROUP BY user_id) t\n",
    "RIGHT JOIN Users u \n",
    "ON u.user_id = t.user_id\n",
    "GROUP BY u.user_id"
   ]
  }
 ],
 "metadata": {
  "celltoolbar": "Tags",
  "kernelspec": {
   "display_name": "Python 3",
   "language": "python",
   "name": "python3"
  },
  "language_info": {
   "codemirror_mode": {
    "name": "ipython",
    "version": 3
   },
   "file_extension": ".py",
   "mimetype": "text/x-python",
   "name": "python",
   "nbconvert_exporter": "python",
   "pygments_lexer": "ipython3",
   "version": "3.7.3"
  }
 },
 "nbformat": 4,
 "nbformat_minor": 2
}
